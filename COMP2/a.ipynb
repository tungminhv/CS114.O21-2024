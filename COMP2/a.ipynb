{
 "cells": [
  {
   "cell_type": "code",
   "execution_count": 3,
   "metadata": {},
   "outputs": [],
   "source": [
    "# get data \n",
    "import pandas as pd\n",
    "import numpy as np"
   ]
  },
  {
   "cell_type": "code",
   "execution_count": null,
   "metadata": {},
   "outputs": [],
   "source": [
    "annonimized = pd.read_csv('public_it001/annonimized.csv')\n",
    "data_tbtl = pd.read_csv('public_it001/tbtl-public.csv')\n",
    "data_qt = pd.read_csv('public_it001/qt-public.csv')\n",
    "data_ck = pd.read_csv('public_it001/ck-public.csv')\n",
    "data_th = pd.read_csv('public_it001/th-public.csv')\n",
    "#print(annonimized.head())"
   ]
  }
 ],
 "metadata": {
  "kernelspec": {
   "display_name": "Python 3",
   "language": "python",
   "name": "python3"
  },
  "language_info": {
   "codemirror_mode": {
    "name": "ipython",
    "version": 3
   },
   "file_extension": ".py",
   "mimetype": "text/x-python",
   "name": "python",
   "nbconvert_exporter": "python",
   "pygments_lexer": "ipython3",
   "version": "3.10.12"
  }
 },
 "nbformat": 4,
 "nbformat_minor": 2
}
